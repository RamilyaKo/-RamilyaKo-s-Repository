{
  "nbformat": 4,
  "nbformat_minor": 0,
  "metadata": {
    "colab": {
      "name": "Untitled0.ipynb",
      "provenance": [],
      "authorship_tag": "ABX9TyPDUPeqDFvA1Z2CIOxzh4n1",
      "include_colab_link": true
    },
    "kernelspec": {
      "name": "python3",
      "display_name": "Python 3"
    },
    "language_info": {
      "name": "python"
    }
  },
  "cells": [
    {
      "cell_type": "markdown",
      "metadata": {
        "id": "view-in-github",
        "colab_type": "text"
      },
      "source": [
        "<a href=\"https://colab.research.google.com/github/RamilyaKo/-RamilyaKo-s-Repository/blob/main/Untitled0.ipynb\" target=\"_parent\"><img src=\"https://colab.research.google.com/assets/colab-badge.svg\" alt=\"Open In Colab\"/></a>"
      ]
    },
    {
      "cell_type": "code",
      "metadata": {
        "colab": {
          "base_uri": "https://localhost:8080/"
        },
        "id": "nF3D6O2B-Vl7",
        "outputId": "212f1899-65d4-47d1-fce9-d20b1bf855ff"
      },
      "source": [
        "x = [1,2,3,4,5,6,7,8,9,10]\n",
        "sum(x)"
      ],
      "execution_count": null,
      "outputs": [
        {
          "output_type": "execute_result",
          "data": {
            "text/plain": [
              "55"
            ]
          },
          "metadata": {},
          "execution_count": 2
        }
      ]
    },
    {
      "cell_type": "code",
      "metadata": {
        "colab": {
          "base_uri": "https://localhost:8080/",
          "height": 214
        },
        "id": "S7WFdI_Mm7vA",
        "outputId": "e88bd6b4-c293-4266-ab39-a42a179469fb"
      },
      "source": [
        "X = ['a', 'b', 'c', 'b', 'd', 'm', 'n', 'n', 'z', 'z', 'z', 'a']\n",
        "print(len(X))\n",
        "print(len(unique_X))"
      ],
      "execution_count": 2,
      "outputs": [
        {
          "output_type": "stream",
          "name": "stdout",
          "text": [
            "12\n"
          ]
        },
        {
          "output_type": "error",
          "ename": "NameError",
          "evalue": "ignored",
          "traceback": [
            "\u001b[0;31m---------------------------------------------------------------------------\u001b[0m",
            "\u001b[0;31mNameError\u001b[0m                                 Traceback (most recent call last)",
            "\u001b[0;32m<ipython-input-2-8345d4a7726a>\u001b[0m in \u001b[0;36m<module>\u001b[0;34m()\u001b[0m\n\u001b[1;32m      1\u001b[0m \u001b[0mX\u001b[0m \u001b[0;34m=\u001b[0m \u001b[0;34m[\u001b[0m\u001b[0;34m'a'\u001b[0m\u001b[0;34m,\u001b[0m \u001b[0;34m'b'\u001b[0m\u001b[0;34m,\u001b[0m \u001b[0;34m'c'\u001b[0m\u001b[0;34m,\u001b[0m \u001b[0;34m'b'\u001b[0m\u001b[0;34m,\u001b[0m \u001b[0;34m'd'\u001b[0m\u001b[0;34m,\u001b[0m \u001b[0;34m'm'\u001b[0m\u001b[0;34m,\u001b[0m \u001b[0;34m'n'\u001b[0m\u001b[0;34m,\u001b[0m \u001b[0;34m'n'\u001b[0m\u001b[0;34m,\u001b[0m \u001b[0;34m'z'\u001b[0m\u001b[0;34m,\u001b[0m \u001b[0;34m'z'\u001b[0m\u001b[0;34m,\u001b[0m \u001b[0;34m'z'\u001b[0m\u001b[0;34m,\u001b[0m \u001b[0;34m'a'\u001b[0m\u001b[0;34m]\u001b[0m\u001b[0;34m\u001b[0m\u001b[0;34m\u001b[0m\u001b[0m\n\u001b[1;32m      2\u001b[0m \u001b[0mprint\u001b[0m\u001b[0;34m(\u001b[0m\u001b[0mlen\u001b[0m\u001b[0;34m(\u001b[0m\u001b[0mX\u001b[0m\u001b[0;34m)\u001b[0m\u001b[0;34m)\u001b[0m\u001b[0;34m\u001b[0m\u001b[0;34m\u001b[0m\u001b[0m\n\u001b[0;32m----> 3\u001b[0;31m \u001b[0mprint\u001b[0m\u001b[0;34m(\u001b[0m\u001b[0mlen\u001b[0m\u001b[0;34m(\u001b[0m\u001b[0munique_X\u001b[0m\u001b[0;34m)\u001b[0m\u001b[0;34m)\u001b[0m\u001b[0;34m\u001b[0m\u001b[0;34m\u001b[0m\u001b[0m\n\u001b[0m",
            "\u001b[0;31mNameError\u001b[0m: name 'unique_X' is not defined"
          ]
        }
      ]
    },
    {
      "cell_type": "code",
      "metadata": {
        "colab": {
          "base_uri": "https://localhost:8080/"
        },
        "id": "oR7RmdZT9SCh",
        "outputId": "c513ada3-2654-4d0f-dd24-0623192c799f"
      },
      "source": [
        "picture = [\n",
        "[0,0,0,1,0,0,0],\n",
        "[0,0,1,1,1,0,0],\n",
        "[0,1,1,1,1,1,0],\n",
        "[1,1,1,1,1,1,1],\n",
        "[0,0,0,1,0,0,0],\n",
        "[0,0,0,1,0,0,0]\n",
        "]\n",
        "\n",
        "for elem in picture:\n",
        "  print(elem)"
      ],
      "execution_count": null,
      "outputs": [
        {
          "output_type": "stream",
          "name": "stdout",
          "text": [
            "[0, 0, 0, 1, 0, 0, 0]\n",
            "[0, 0, 1, 1, 1, 0, 0]\n",
            "[0, 1, 1, 1, 1, 1, 0]\n",
            "[1, 1, 1, 1, 1, 1, 1]\n",
            "[0, 0, 0, 1, 0, 0, 0]\n",
            "[0, 0, 0, 1, 0, 0, 0]\n"
          ]
        }
      ]
    },
    {
      "cell_type": "code",
      "metadata": {
        "colab": {
          "base_uri": "https://localhost:8080/"
        },
        "id": "Zf1SPT82Cfhm",
        "outputId": "5ef21c68-c0de-47c3-e82d-46a7036b4b76"
      },
      "source": [
        "picture = [\n",
        "[0,0,0,1,0,0,0],\n",
        "[0,0,1,1,1,0,0],\n",
        "[0,1,1,1,1,1,0],\n",
        "[1,1,1,1,1,1,1],\n",
        "[0,0,0,1,0,0,0],\n",
        "[0,0,0,1,0,0,0]\n",
        "]\n",
        "output_1 = \"\"\n",
        "for i in picture:\n",
        "  for j in i:\n",
        "    output_1 += str(j)\n",
        "  output_1 += '\\n'\n",
        "print(output_1)"
      ],
      "execution_count": null,
      "outputs": [
        {
          "output_type": "stream",
          "name": "stdout",
          "text": [
            "0001000\n",
            "0011100\n",
            "0111110\n",
            "1111111\n",
            "0001000\n",
            "0001000\n",
            "\n"
          ]
        }
      ]
    },
    {
      "cell_type": "code",
      "metadata": {
        "id": "Wv2JALkliLh6"
      },
      "source": [
        ""
      ],
      "execution_count": null,
      "outputs": []
    },
    {
      "cell_type": "markdown",
      "metadata": {
        "id": "MaKc8Lcr-Wkq"
      },
      "source": [
        "x = []\n",
        ">>> sum(x)"
      ]
    },
    {
      "cell_type": "code",
      "metadata": {
        "colab": {
          "base_uri": "https://localhost:8080/"
        },
        "id": "8GRYazGbJDBm",
        "outputId": "3bfe856a-4366-44f2-e53d-ee2dceb19e69"
      },
      "source": [
        "X = ['a', 'b', 'c', 'b', 'd', 'm', 'n', 'n', 'z', 'z', 'z', 'a']\n",
        "counter = {}\n",
        "\n",
        "for elem in X:\n",
        "    counter[elem] = counter.get(elem, 0) + 1\n",
        "\n",
        "doubles = {element: count for element, count in counter.items() if count > 1}\n",
        "\n",
        "print(doubles)"
      ],
      "execution_count": null,
      "outputs": [
        {
          "output_type": "stream",
          "name": "stdout",
          "text": [
            "{'a': 2, 'b': 2, 'n': 2, 'z': 3}\n"
          ]
        }
      ]
    },
    {
      "cell_type": "markdown",
      "metadata": {
        "id": "BMMVJwYzJEy0"
      },
      "source": [
        "Выявления дубликатов в списке"
      ]
    },
    {
      "cell_type": "markdown",
      "metadata": {
        "id": "M_uSuvG6-dZg"
      },
      "source": [
        "код для подсчета суммы элементов в списке.\n"
      ]
    }
  ]
}