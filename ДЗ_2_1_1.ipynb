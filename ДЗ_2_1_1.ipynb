{
  "nbformat": 4,
  "nbformat_minor": 0,
  "metadata": {
    "colab": {
      "name": "ДЗ 2.1.1.ipynb",
      "provenance": [],
      "authorship_tag": "ABX9TyNxZoHT+UKT6BbivIkoAxuX",
      "include_colab_link": true
    },
    "kernelspec": {
      "name": "python3",
      "display_name": "Python 3"
    },
    "language_info": {
      "name": "python"
    }
  },
  "cells": [
    {
      "cell_type": "markdown",
      "metadata": {
        "id": "view-in-github",
        "colab_type": "text"
      },
      "source": [
        "<a href=\"https://colab.research.google.com/github/RamilyaKo/-RamilyaKo-s-Repository/blob/main/%D0%94%D0%97_2_1_1.ipynb\" target=\"_parent\"><img src=\"https://colab.research.google.com/assets/colab-badge.svg\" alt=\"Open In Colab\"/></a>"
      ]
    },
    {
      "cell_type": "markdown",
      "metadata": {
        "id": "BSxuvUvbQUVF"
      },
      "source": [
        "1. Написать код для подсчета суммы элементов в списке"
      ]
    },
    {
      "cell_type": "code",
      "metadata": {
        "colab": {
          "base_uri": "https://localhost:8080/"
        },
        "id": "mczcZWriP_qm",
        "outputId": "fddf5c84-72fa-4e87-f41e-b9da79d537f2"
      },
      "source": [
        "list = [11,22,33,44,55,66,77,88,99,100]\n",
        "print(sum(list))"
      ],
      "execution_count": 1,
      "outputs": [
        {
          "output_type": "stream",
          "name": "stdout",
          "text": [
            "595\n"
          ]
        }
      ]
    },
    {
      "cell_type": "markdown",
      "metadata": {
        "id": "F5XDLErJQix7"
      },
      "source": [
        "2a Написать код для выявления дубликатов в списке"
      ]
    },
    {
      "cell_type": "code",
      "metadata": {
        "colab": {
          "base_uri": "https://localhost:8080/"
        },
        "id": "AqcOeqxUQdMM",
        "outputId": "ef8e23f2-1c09-45f6-df66-b268e9806e74"
      },
      "source": [
        "X = ['a', 'b', 'c', 'b', 'd', 'm', 'n', 'n', 'z', 'z', 'z', 'a']\n",
        "counter = {}\n",
        "for elem in X:\n",
        "    counter[elem] = counter.get(elem, 0) + 1\n",
        "\n",
        "doubles = {\n",
        "  element: \n",
        "  count for element, \n",
        "  count in counter.items() \n",
        "  if count > 1}\n",
        "print(doubles)"
      ],
      "execution_count": 4,
      "outputs": [
        {
          "output_type": "stream",
          "name": "stdout",
          "text": [
            "{'a': 2, 'b': 2, 'n': 2, 'z': 3}\n"
          ]
        }
      ]
    },
    {
      "cell_type": "markdown",
      "metadata": {
        "id": "e7kTHd1dRNoA"
      },
      "source": [
        "2b Написать код для подсчета количества различных значений"
      ]
    },
    {
      "cell_type": "code",
      "metadata": {
        "colab": {
          "base_uri": "https://localhost:8080/"
        },
        "id": "jmldbxHmQ8Uw",
        "outputId": "62a31eb7-4b74-4567-d7c2-a36a40654ce3"
      },
      "source": [
        "X1 = set(X)\n",
        "print(len(X1))"
      ],
      "execution_count": 5,
      "outputs": [
        {
          "output_type": "stream",
          "name": "stdout",
          "text": [
            "7\n"
          ]
        }
      ]
    },
    {
      "cell_type": "markdown",
      "metadata": {
        "id": "VVyFZwyGRXwQ"
      },
      "source": [
        "2c Написать код для вычисления трех самых часто встречающихся элементов - Топ-3"
      ]
    },
    {
      "cell_type": "code",
      "metadata": {
        "colab": {
          "base_uri": "https://localhost:8080/"
        },
        "id": "MVSVR1JbRT0H",
        "outputId": "7dba16d5-7546-45b0-a838-06d5c7743b49"
      },
      "source": [
        "from collections import Counter\n",
        "c = Counter(X)\n",
        "print(c.most_common(3))"
      ],
      "execution_count": 6,
      "outputs": [
        {
          "output_type": "stream",
          "name": "stdout",
          "text": [
            "[('z', 3), ('a', 2), ('b', 2)]\n"
          ]
        }
      ]
    },
    {
      "cell_type": "markdown",
      "metadata": {
        "id": "Th30aC4pRjV2"
      },
      "source": [
        "3 В переменной picture записан список из списков (или матрица 7х7). Вам необходимо написать код, который пройдет по всем элементам списка, напечатает в консоль вместо 0 символ пробела (‘ ’), а вместо 1 -- ‘*’ (звездочку) в том же порядке, в каком идут элементы в матрице."
      ]
    },
    {
      "cell_type": "code",
      "metadata": {
        "colab": {
          "base_uri": "https://localhost:8080/"
        },
        "id": "4lj8k78vRfGn",
        "outputId": "1211cfce-7131-45d4-d02f-b361c7a98b93"
      },
      "source": [
        "picture = [\n",
        "[0,0,0,1,0,0,0],\n",
        "[0,0,1,1,1,0,0],\n",
        "[0,1,1,1,1,1,0],\n",
        "[1,1,1,1,1,1,1],\n",
        "[0,0,0,1,0,0,0],\n",
        "[0,0,0,1,0,0,0]\n",
        "]\n",
        "\n",
        "for i in picture:\n",
        "  output = \"\"\n",
        "  for j in i:\n",
        "    if j == 1:\n",
        "      output += \"*\"\n",
        "    else:\n",
        "      output += \" \"\n",
        "  print(output)"
      ],
      "execution_count": 7,
      "outputs": [
        {
          "output_type": "stream",
          "name": "stdout",
          "text": [
            "   *   \n",
            "  ***  \n",
            " ***** \n",
            "*******\n",
            "   *   \n",
            "   *   \n"
          ]
        }
      ]
    }
  ]
}